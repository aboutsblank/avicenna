{
 "cells": [
  {
   "cell_type": "markdown",
   "source": [
    "# Automating Pattern Selection\n",
    "\n",
    "In this notebook we will take a look under the hood of Avicenna with the aim of automating it's pattern selection. What we mean by this in detail, which methods we will use and what challenges we will face is part of this development journey. I will try to set up an example (probably the Calculator) and step by step disassemble Avicenna until the point where the pattern selection is needed. I hope to then develop possible solutions to automate the process.\n",
    "\n",
    "## Calculator Example\n",
    "\n",
    "### Program under test"
   ],
   "metadata": {
    "collapsed": false
   },
   "id": "d9aa7021785c1fb7"
  },
  {
   "cell_type": "code",
   "outputs": [],
   "source": [
    "import math\n",
    "\n",
    "def calculator(inp: str) -> float:\n",
    "    return eval(\n",
    "        str(inp), {\"sqrt\": math.sqrt, \"sin\": math.sin, \"cos\": math.cos, \"tan\": math.tan}\n",
    "    )"
   ],
   "metadata": {
    "collapsed": false,
    "ExecuteTime": {
     "end_time": "2024-03-05T22:11:27.391823Z",
     "start_time": "2024-03-05T22:11:27.380979Z"
    }
   },
   "id": "ab0bfbce42d88215",
   "execution_count": 11
  },
  {
   "cell_type": "code",
   "outputs": [],
   "source": [
    "from avicenna.avicenna import OracleResult\n",
    "\n",
    "def oracle(inp: str) -> OracleResult:\n",
    "    try:\n",
    "        calculator(inp)\n",
    "    except ValueError as e:\n",
    "        return OracleResult.FAILING\n",
    "    return OracleResult.PASSING"
   ],
   "metadata": {
    "collapsed": false,
    "ExecuteTime": {
     "end_time": "2024-03-05T22:11:27.461070Z",
     "start_time": "2024-03-05T22:11:27.445568Z"
    }
   },
   "id": "5a4812bd774ddfeb",
   "execution_count": 12
  },
  {
   "cell_type": "code",
   "outputs": [],
   "source": [
    "import string\n",
    "\n",
    "grammar = {\n",
    "    \"<start>\": [\"<arith_expr>\"],\n",
    "    \"<arith_expr>\": [\"<function>(<number>)\"],\n",
    "    \"<function>\": [\"sqrt\", \"sin\", \"cos\", \"tan\"],\n",
    "    \"<number>\": [\"<maybe_minus><onenine><maybe_digits><maybe_frac>\"],\n",
    "    \"<maybe_minus>\": [\"\", \"-\"],\n",
    "    \"<onenine>\": [str(num) for num in range(1, 10)],\n",
    "    \"<digit>\": list(string.digits),\n",
    "    \"<maybe_digits>\": [\"\", \"<digits>\"],\n",
    "    \"<digits>\": [\"<digit>\", \"<digit><digits>\"],\n",
    "    \"<maybe_frac>\": [\"\", \".<digits>\"],\n",
    "}"
   ],
   "metadata": {
    "collapsed": false,
    "ExecuteTime": {
     "end_time": "2024-03-05T22:11:27.508947Z",
     "start_time": "2024-03-05T22:11:27.489655Z"
    }
   },
   "id": "e0f715d69b2fba52",
   "execution_count": 13
  },
  {
   "cell_type": "code",
   "outputs": [],
   "source": [
    "initial_inputs = ['sqrt(1)', 'cos(912)', 'tan(4)', 'sqrt(-3)']"
   ],
   "metadata": {
    "collapsed": false,
    "ExecuteTime": {
     "end_time": "2024-03-05T22:11:27.562078Z",
     "start_time": "2024-03-05T22:11:27.543848Z"
    }
   },
   "id": "2eeaabd32a59c6c6",
   "execution_count": 14
  },
  {
   "cell_type": "markdown",
   "source": [
    "### Using Avicenna"
   ],
   "metadata": {
    "collapsed": false
   },
   "id": "1c0fcb602667578b"
  },
  {
   "cell_type": "code",
   "outputs": [],
   "source": [
    "from avicenna.avicenna import Avicenna\n",
    "\n",
    "avicenna = Avicenna(\n",
    "    grammar,\n",
    "    oracle,\n",
    "    initial_inputs,\n",
    ")"
   ],
   "metadata": {
    "collapsed": false,
    "ExecuteTime": {
     "end_time": "2024-03-05T22:11:27.996606Z",
     "start_time": "2024-03-05T22:11:27.666719Z"
    }
   },
   "id": "3194fa71f902d55d",
   "execution_count": 15
  },
  {
   "cell_type": "code",
   "outputs": [],
   "source": [
    "from avicenna.input import Input\n",
    "from typing import Set"
   ],
   "metadata": {
    "collapsed": false,
    "ExecuteTime": {
     "end_time": "2024-03-05T22:11:28.018234Z",
     "start_time": "2024-03-05T22:11:28.010671Z"
    }
   },
   "id": "de5bc476ead1823d",
   "execution_count": 16
  },
  {
   "cell_type": "code",
   "outputs": [],
   "source": [
    "new_inputs: Set[Input] = avicenna.all_inputs.union(avicenna.generate_more_inputs())"
   ],
   "metadata": {
    "collapsed": false,
    "ExecuteTime": {
     "end_time": "2024-03-05T22:11:28.240500Z",
     "start_time": "2024-03-05T22:11:28.027547Z"
    }
   },
   "id": "bed02d8d62e609ca",
   "execution_count": 17
  },
  {
   "cell_type": "code",
   "outputs": [],
   "source": [
    "from avicenna.monads import Exceptional, check_empty\n",
    "\n",
    "def loop(test_inputs: Set[Input]):\n",
    "    test_inputs = avicenna.construct_inputs(test_inputs)\n",
    "    exclusion_non_terminals = avicenna.learn_relevant_features()\n",
    "\n",
    "    new_candidates = avicenna.pattern_learner.learn_failure_invariants(\n",
    "        test_inputs,\n",
    "        avicenna.precision_truth_table,\n",
    "        avicenna.recall_truth_table,\n",
    "        exclusion_non_terminals,\n",
    "    )\n",
    "\n",
    "    new_candidates = new_candidates.keys()\n",
    "\n",
    "    avicenna.best_candidates = new_candidates\n",
    "    new_inputs = (\n",
    "        Exceptional.of(lambda: new_candidates)\n",
    "        .map(avicenna.add_negated_constraints)\n",
    "        .map(avicenna.generate_inputs)\n",
    "        .bind(check_empty)\n",
    "        .recover(avicenna.generate_inputs_with_grammar_fuzzer)\n",
    "        .reraise()\n",
    "        .get()\n",
    "    )\n",
    "    # LOGGER.info(f\"Generated {len(new_inputs)} new inputs.\")\n",
    "    return new_inputs"
   ],
   "metadata": {
    "collapsed": false,
    "ExecuteTime": {
     "end_time": "2024-03-05T22:11:28.271366Z",
     "start_time": "2024-03-05T22:11:28.256417Z"
    }
   },
   "id": "307f9b645e41591a",
   "execution_count": 18
  },
  {
   "cell_type": "code",
   "outputs": [],
   "source": [
    "while avicenna.do_more_iterations():\n",
    "    new_inputs = loop(new_inputs)"
   ],
   "metadata": {
    "collapsed": false,
    "ExecuteTime": {
     "end_time": "2024-03-05T22:11:50.999681Z",
     "start_time": "2024-03-05T22:11:28.279876Z"
    }
   },
   "id": "a4f4e3f5b5926a18",
   "execution_count": 19
  },
  {
   "cell_type": "code",
   "outputs": [],
   "source": [
    "diagnosis = avicenna.finalize()"
   ],
   "metadata": {
    "collapsed": false,
    "ExecuteTime": {
     "end_time": "2024-03-05T22:11:51.013295Z",
     "start_time": "2024-03-05T22:11:51.004Z"
    }
   },
   "id": "5d04804dfff4fa13",
   "execution_count": 20
  },
  {
   "cell_type": "code",
   "outputs": [
    {
     "name": "stdout",
     "output_type": "stream",
     "text": [
      "Avicenna determined the following constraints to describe the failure circumstances:\n",
      "\n",
      "(exists <function> elem in start:\n",
      "   (= elem \"sqrt\") and\n",
      "exists <maybe_minus> elem_0 in start:\n",
      "  (= elem_0 \"-\"))\n",
      "Avicenna calculated a precision of 100.00% and a recall of 100.00%\n"
     ]
    }
   ],
   "source": [
    "from isla.language import ISLaUnparser\n",
    "\n",
    "print(f\"Avicenna determined the following constraints to describe the failure circumstances:\\n\")\n",
    "\n",
    "print(ISLaUnparser(diagnosis[0]).unparse())\n",
    "print(f\"Avicenna calculated a precision of {diagnosis[1]*100:.2f}% and a recall of {diagnosis[2]*100:.2f}%\", end=\"\\n\\n\")"
   ],
   "metadata": {
    "collapsed": false,
    "ExecuteTime": {
     "end_time": "2024-03-05T22:11:51.038696Z",
     "start_time": "2024-03-05T22:11:51.022843Z"
    }
   },
   "id": "22839c3b30f0dd86",
   "execution_count": 21
  },
  {
   "cell_type": "markdown",
   "source": [
    "- Idee: simuliere den Durchlauf von Avicenna bis zu dem Punkt, an dem die Pattern Selektion relevant ist\n",
    "- Schnittstelle von der ich Daten bekomme: \n",
    "- Schnittstelle an die ich Daten gebe: pattern_learner Z272 get_candidates -> generate_candidates"
   ],
   "metadata": {
    "collapsed": false
   },
   "id": "9893097dd36007ed"
  }
 ],
 "metadata": {
  "kernelspec": {
   "display_name": "Python 3",
   "language": "python",
   "name": "python3"
  },
  "language_info": {
   "codemirror_mode": {
    "name": "ipython",
    "version": 2
   },
   "file_extension": ".py",
   "mimetype": "text/x-python",
   "name": "python",
   "nbconvert_exporter": "python",
   "pygments_lexer": "ipython2",
   "version": "2.7.6"
  }
 },
 "nbformat": 4,
 "nbformat_minor": 5
}

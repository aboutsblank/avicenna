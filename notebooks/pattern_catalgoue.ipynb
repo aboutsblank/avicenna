{
 "cells": [
  {
   "cell_type": "markdown",
   "source": [
    "# Automating Pattern Selection\n",
    "\n",
    "In this notebook we will take a look under the hood of Avicenna with the aim of automating it's pattern selection. What we mean by this in detail, which methods we will use and what challenges we will face is part of this development journey. I will try to set up an example (probably the Calculator) and step by step disassemble Avicenna until the point where the pattern selection is needed. I hope to then develop possible solutions to automate the process.\n",
    "\n",
    "## Calculator Example\n",
    "\n",
    "### Program under test"
   ],
   "metadata": {
    "collapsed": false
   },
   "id": "d9aa7021785c1fb7"
  },
  {
   "cell_type": "code",
   "outputs": [],
   "source": [
    "import math\n",
    "\n",
    "def calculator(inp: str) -> float:\n",
    "    return eval(\n",
    "        str(inp), {\"sqrt\": math.sqrt, \"sin\": math.sin, \"cos\": math.cos, \"tan\": math.tan}\n",
    "    )"
   ],
   "metadata": {
    "collapsed": false,
    "ExecuteTime": {
     "end_time": "2024-03-06T06:50:17.845815Z",
     "start_time": "2024-03-06T06:50:17.821840Z"
    }
   },
   "id": "ab0bfbce42d88215",
   "execution_count": 42
  },
  {
   "cell_type": "code",
   "outputs": [],
   "source": [
    "from avicenna.avicenna import OracleResult\n",
    "\n",
    "def oracle(inp: str) -> OracleResult:\n",
    "    try:\n",
    "        calculator(inp)\n",
    "    except ValueError as e:\n",
    "        return OracleResult.FAILING\n",
    "    return OracleResult.PASSING"
   ],
   "metadata": {
    "collapsed": false,
    "ExecuteTime": {
     "end_time": "2024-03-06T06:50:17.908389Z",
     "start_time": "2024-03-06T06:50:17.891480Z"
    }
   },
   "id": "5a4812bd774ddfeb",
   "execution_count": 43
  },
  {
   "cell_type": "code",
   "outputs": [],
   "source": [
    "import string\n",
    "\n",
    "grammar = {\n",
    "    \"<start>\": [\"<arith_expr>\"],\n",
    "    \"<arith_expr>\": [\"<function>(<number>)\"],\n",
    "    \"<function>\": [\"sqrt\", \"sin\", \"cos\", \"tan\"],\n",
    "    \"<number>\": [\"<maybe_minus><onenine><maybe_digits><maybe_frac>\"],\n",
    "    \"<maybe_minus>\": [\"\", \"-\"],\n",
    "    \"<onenine>\": [str(num) for num in range(1, 10)],\n",
    "    \"<digit>\": list(string.digits),\n",
    "    \"<maybe_digits>\": [\"\", \"<digits>\"],\n",
    "    \"<digits>\": [\"<digit>\", \"<digit><digits>\"],\n",
    "    \"<maybe_frac>\": [\"\", \".<digits>\"],\n",
    "}"
   ],
   "metadata": {
    "collapsed": false,
    "ExecuteTime": {
     "end_time": "2024-03-06T06:50:17.931549Z",
     "start_time": "2024-03-06T06:50:17.916438Z"
    }
   },
   "id": "e0f715d69b2fba52",
   "execution_count": 44
  },
  {
   "cell_type": "code",
   "outputs": [],
   "source": [
    "initial_inputs = ['sqrt(1)', 'cos(912)', 'tan(4)', 'sqrt(-3)']"
   ],
   "metadata": {
    "collapsed": false,
    "ExecuteTime": {
     "end_time": "2024-03-06T06:50:17.958237Z",
     "start_time": "2024-03-06T06:50:17.943843Z"
    }
   },
   "id": "2eeaabd32a59c6c6",
   "execution_count": 45
  },
  {
   "cell_type": "markdown",
   "source": [
    "### Using Avicenna"
   ],
   "metadata": {
    "collapsed": false
   },
   "id": "1c0fcb602667578b"
  },
  {
   "cell_type": "code",
   "outputs": [],
   "source": [
    "from avicenna.avicenna import Avicenna\n",
    "\n",
    "avicenna = Avicenna(\n",
    "    grammar,\n",
    "    oracle,\n",
    "    initial_inputs,\n",
    ")"
   ],
   "metadata": {
    "collapsed": false,
    "ExecuteTime": {
     "end_time": "2024-03-06T06:50:18.452685Z",
     "start_time": "2024-03-06T06:50:17.967118Z"
    }
   },
   "id": "3194fa71f902d55d",
   "execution_count": 46
  },
  {
   "cell_type": "code",
   "outputs": [],
   "source": [
    "from avicenna.input import Input\n",
    "from typing import Set"
   ],
   "metadata": {
    "collapsed": false,
    "ExecuteTime": {
     "end_time": "2024-03-06T06:50:18.477844Z",
     "start_time": "2024-03-06T06:50:18.462302Z"
    }
   },
   "id": "de5bc476ead1823d",
   "execution_count": 47
  },
  {
   "cell_type": "code",
   "outputs": [],
   "source": [
    "new_inputs: Set[Input] = avicenna.all_inputs.union(avicenna.generate_more_inputs())"
   ],
   "metadata": {
    "collapsed": false,
    "ExecuteTime": {
     "end_time": "2024-03-06T06:50:18.747070Z",
     "start_time": "2024-03-06T06:50:18.491391Z"
    }
   },
   "id": "bed02d8d62e609ca",
   "execution_count": 48
  },
  {
   "cell_type": "code",
   "outputs": [],
   "source": [
    "from avicenna.monads import Exceptional, check_empty\n",
    "\n",
    "def loop(test_inputs: Set[Input]):\n",
    "    test_inputs = avicenna.construct_inputs(test_inputs)\n",
    "    exclusion_non_terminals, rel, corr, excl = avicenna.learn_relevant_features()\n",
    "\n",
    "    new_candidates = avicenna.pattern_learner.learn_failure_invariants(\n",
    "        test_inputs,\n",
    "        avicenna.precision_truth_table,\n",
    "        avicenna.recall_truth_table,\n",
    "        exclusion_non_terminals,\n",
    "    )\n",
    "\n",
    "    new_candidates = new_candidates.keys()\n",
    "\n",
    "    avicenna.best_candidates = new_candidates\n",
    "    new_inputs = (\n",
    "        Exceptional.of(lambda: new_candidates)\n",
    "        .map(avicenna.add_negated_constraints)\n",
    "        .map(avicenna.generate_inputs)\n",
    "        .bind(check_empty)\n",
    "        .recover(avicenna.generate_inputs_with_grammar_fuzzer)\n",
    "        .reraise()\n",
    "        .get()\n",
    "    )\n",
    "    # LOGGER.info(f\"Generated {len(new_inputs)} new inputs.\")\n",
    "    return new_inputs"
   ],
   "metadata": {
    "collapsed": false,
    "ExecuteTime": {
     "end_time": "2024-03-06T06:50:18.773712Z",
     "start_time": "2024-03-06T06:50:18.756218Z"
    }
   },
   "id": "307f9b645e41591a",
   "execution_count": 49
  },
  {
   "cell_type": "code",
   "outputs": [
    {
     "ename": "AttributeError",
     "evalue": "'NoneType' object has no attribute 'get_feature_value'",
     "output_type": "error",
     "traceback": [
      "\u001B[0;31m---------------------------------------------------------------------------\u001B[0m",
      "\u001B[0;31mAttributeError\u001B[0m                            Traceback (most recent call last)",
      "Cell \u001B[0;32mIn[50], line 1\u001B[0m\n\u001B[0;32m----> 1\u001B[0m test \u001B[38;5;241m=\u001B[39m \u001B[43mavicenna\u001B[49m\u001B[38;5;241;43m.\u001B[39;49m\u001B[43mlearn_relevant_features\u001B[49m\u001B[43m(\u001B[49m\u001B[43m)\u001B[49m\n\u001B[1;32m      2\u001B[0m \u001B[38;5;28mprint\u001B[39m()\n",
      "File \u001B[0;32m~/Workspace/bachelorarbeit/avicenna/src/avicenna/avicenna.py:248\u001B[0m, in \u001B[0;36mlearn_relevant_features\u001B[0;34m(self)\u001B[0m\n\u001B[1;32m    237\u001B[0m     return test_inputs\n\u001B[1;32m    239\u001B[0m def construct_inputs(self, test_inputs: Set[Input]) -> Set[Input]:\n\u001B[1;32m    240\u001B[0m     result: Set[Input] = (\n\u001B[1;32m    241\u001B[0m         Exceptional.of(lambda: test_inputs)\n\u001B[1;32m    242\u001B[0m         .map(self.assign_label)\n\u001B[1;32m    243\u001B[0m         .map(lambda x: {inp for inp in x if inp.oracle != OracleResult.UNDEFINED})\n\u001B[1;32m    244\u001B[0m         .map(self.assign_feature_vector)\n\u001B[1;32m    245\u001B[0m         .map(self.add_inputs)\n\u001B[1;32m    246\u001B[0m         .reraise()\n\u001B[1;32m    247\u001B[0m         .get()\n\u001B[0;32m--> 248\u001B[0m     )\n\u001B[1;32m    249\u001B[0m     return result\n\u001B[1;32m    251\u001B[0m def learn_relevant_features(self) -> tuple[list[str], set[Feature], set[Feature], set[Feature]]:\n",
      "File \u001B[0;32m~/Workspace/bachelorarbeit/avicenna/src/avicenna/feature_extractor.py:58\u001B[0m, in \u001B[0;36mRelevantFeatureLearner.learn\u001B[0;34m(self, test_input)\u001B[0m\n\u001B[1;32m     53\u001B[0m \u001B[38;5;28;01mif\u001B[39;00m \u001B[38;5;129;01mnot\u001B[39;00m test_input:\n\u001B[1;32m     54\u001B[0m     \u001B[38;5;28;01mraise\u001B[39;00m \u001B[38;5;167;01mValueError\u001B[39;00m(\n\u001B[1;32m     55\u001B[0m         \u001B[38;5;124m\"\u001B[39m\u001B[38;5;124mInput set for learning relevant features must not be empty.\u001B[39m\u001B[38;5;124m\"\u001B[39m\n\u001B[1;32m     56\u001B[0m     )\n\u001B[0;32m---> 58\u001B[0m x_train, y_train \u001B[38;5;241m=\u001B[39m \u001B[38;5;28;43mself\u001B[39;49m\u001B[38;5;241;43m.\u001B[39;49m\u001B[43mget_learning_data\u001B[49m\u001B[43m(\u001B[49m\u001B[43mtest_input\u001B[49m\u001B[43m)\u001B[49m\n\u001B[1;32m     59\u001B[0m primary_features \u001B[38;5;241m=\u001B[39m \u001B[38;5;28mset\u001B[39m(\u001B[38;5;28mself\u001B[39m\u001B[38;5;241m.\u001B[39mget_relevant_features(test_input, x_train, y_train))\n\u001B[1;32m     60\u001B[0m logging\u001B[38;5;241m.\u001B[39minfo(\u001B[38;5;124mf\u001B[39m\u001B[38;5;124m\"\u001B[39m\u001B[38;5;124mDetermined \u001B[39m\u001B[38;5;132;01m{\u001B[39;00mprimary_features\u001B[38;5;132;01m}\u001B[39;00m\u001B[38;5;124m as most relevant.\u001B[39m\u001B[38;5;124m\"\u001B[39m)\n",
      "File \u001B[0;32m~/Workspace/bachelorarbeit/avicenna/src/avicenna/feature_extractor.py:119\u001B[0m, in \u001B[0;36mRelevantFeatureLearner.get_learning_data\u001B[0;34m(self, test_inputs)\u001B[0m\n\u001B[1;32m    118\u001B[0m \u001B[38;5;28;01mdef\u001B[39;00m \u001B[38;5;21mget_learning_data\u001B[39m(\u001B[38;5;28mself\u001B[39m, test_inputs: Set[Input]) \u001B[38;5;241m-\u001B[39m\u001B[38;5;241m>\u001B[39m Tuple[DataFrame, List[\u001B[38;5;28mint\u001B[39m]]:\n\u001B[0;32m--> 119\u001B[0m     records \u001B[38;5;241m=\u001B[39m \u001B[43m[\u001B[49m\n\u001B[1;32m    120\u001B[0m \u001B[43m        \u001B[49m\u001B[43m{\u001B[49m\n\u001B[1;32m    121\u001B[0m \u001B[43m            \u001B[49m\u001B[43mfeature\u001B[49m\u001B[43m:\u001B[49m\u001B[43m \u001B[49m\u001B[43minp\u001B[49m\u001B[38;5;241;43m.\u001B[39;49m\u001B[43mfeatures\u001B[49m\u001B[38;5;241;43m.\u001B[39;49m\u001B[43mget_feature_value\u001B[49m\u001B[43m(\u001B[49m\u001B[43mfeature\u001B[49m\u001B[43m)\u001B[49m\n\u001B[1;32m    122\u001B[0m \u001B[43m            \u001B[49m\u001B[38;5;28;43;01mfor\u001B[39;49;00m\u001B[43m \u001B[49m\u001B[43mfeature\u001B[49m\u001B[43m \u001B[49m\u001B[38;5;129;43;01min\u001B[39;49;00m\u001B[43m \u001B[49m\u001B[38;5;28;43mself\u001B[39;49m\u001B[38;5;241;43m.\u001B[39;49m\u001B[43mfeatures\u001B[49m\n\u001B[1;32m    123\u001B[0m \u001B[43m        \u001B[49m\u001B[43m}\u001B[49m\n\u001B[1;32m    124\u001B[0m \u001B[43m        \u001B[49m\u001B[38;5;28;43;01mfor\u001B[39;49;00m\u001B[43m \u001B[49m\u001B[43minp\u001B[49m\u001B[43m \u001B[49m\u001B[38;5;129;43;01min\u001B[39;49;00m\u001B[43m \u001B[49m\u001B[43mtest_inputs\u001B[49m\n\u001B[1;32m    125\u001B[0m \u001B[43m        \u001B[49m\u001B[38;5;28;43;01mif\u001B[39;49;00m\u001B[43m \u001B[49m\u001B[43minp\u001B[49m\u001B[38;5;241;43m.\u001B[39;49m\u001B[43moracle\u001B[49m\u001B[43m \u001B[49m\u001B[38;5;241;43m!=\u001B[39;49m\u001B[43m \u001B[49m\u001B[43mOracleResult\u001B[49m\u001B[38;5;241;43m.\u001B[39;49m\u001B[43mUNDEFINED\u001B[49m\n\u001B[1;32m    126\u001B[0m \u001B[43m    \u001B[49m\u001B[43m]\u001B[49m\n\u001B[1;32m    128\u001B[0m     df \u001B[38;5;241m=\u001B[39m DataFrame\u001B[38;5;241m.\u001B[39mfrom_records(records)\u001B[38;5;241m.\u001B[39mreplace(\u001B[38;5;241m-\u001B[39mnp\u001B[38;5;241m.\u001B[39minf, \u001B[38;5;241m-\u001B[39m(\u001B[38;5;241m2\u001B[39m\u001B[38;5;241m*\u001B[39m\u001B[38;5;241m*\u001B[39m\u001B[38;5;241m32\u001B[39m))\n\u001B[1;32m    129\u001B[0m     labels \u001B[38;5;241m=\u001B[39m [\n\u001B[1;32m    130\u001B[0m         \u001B[38;5;28mself\u001B[39m\u001B[38;5;241m.\u001B[39mmap_result(inp\u001B[38;5;241m.\u001B[39moracle)\n\u001B[1;32m    131\u001B[0m         \u001B[38;5;28;01mfor\u001B[39;00m inp \u001B[38;5;129;01min\u001B[39;00m test_inputs\n\u001B[1;32m    132\u001B[0m         \u001B[38;5;28;01mif\u001B[39;00m inp\u001B[38;5;241m.\u001B[39moracle \u001B[38;5;241m!=\u001B[39m OracleResult\u001B[38;5;241m.\u001B[39mUNDEFINED\n\u001B[1;32m    133\u001B[0m     ]\n",
      "File \u001B[0;32m~/Workspace/bachelorarbeit/avicenna/src/avicenna/feature_extractor.py:120\u001B[0m, in \u001B[0;36m<listcomp>\u001B[0;34m(.0)\u001B[0m\n\u001B[1;32m    118\u001B[0m \u001B[38;5;28;01mdef\u001B[39;00m \u001B[38;5;21mget_learning_data\u001B[39m(\u001B[38;5;28mself\u001B[39m, test_inputs: Set[Input]) \u001B[38;5;241m-\u001B[39m\u001B[38;5;241m>\u001B[39m Tuple[DataFrame, List[\u001B[38;5;28mint\u001B[39m]]:\n\u001B[1;32m    119\u001B[0m     records \u001B[38;5;241m=\u001B[39m [\n\u001B[0;32m--> 120\u001B[0m         \u001B[43m{\u001B[49m\n\u001B[1;32m    121\u001B[0m \u001B[43m            \u001B[49m\u001B[43mfeature\u001B[49m\u001B[43m:\u001B[49m\u001B[43m \u001B[49m\u001B[43minp\u001B[49m\u001B[38;5;241;43m.\u001B[39;49m\u001B[43mfeatures\u001B[49m\u001B[38;5;241;43m.\u001B[39;49m\u001B[43mget_feature_value\u001B[49m\u001B[43m(\u001B[49m\u001B[43mfeature\u001B[49m\u001B[43m)\u001B[49m\n\u001B[1;32m    122\u001B[0m \u001B[43m            \u001B[49m\u001B[38;5;28;43;01mfor\u001B[39;49;00m\u001B[43m \u001B[49m\u001B[43mfeature\u001B[49m\u001B[43m \u001B[49m\u001B[38;5;129;43;01min\u001B[39;49;00m\u001B[43m \u001B[49m\u001B[38;5;28;43mself\u001B[39;49m\u001B[38;5;241;43m.\u001B[39;49m\u001B[43mfeatures\u001B[49m\n\u001B[1;32m    123\u001B[0m \u001B[43m        \u001B[49m\u001B[43m}\u001B[49m\n\u001B[1;32m    124\u001B[0m         \u001B[38;5;28;01mfor\u001B[39;00m inp \u001B[38;5;129;01min\u001B[39;00m test_inputs\n\u001B[1;32m    125\u001B[0m         \u001B[38;5;28;01mif\u001B[39;00m inp\u001B[38;5;241m.\u001B[39moracle \u001B[38;5;241m!=\u001B[39m OracleResult\u001B[38;5;241m.\u001B[39mUNDEFINED\n\u001B[1;32m    126\u001B[0m     ]\n\u001B[1;32m    128\u001B[0m     df \u001B[38;5;241m=\u001B[39m DataFrame\u001B[38;5;241m.\u001B[39mfrom_records(records)\u001B[38;5;241m.\u001B[39mreplace(\u001B[38;5;241m-\u001B[39mnp\u001B[38;5;241m.\u001B[39minf, \u001B[38;5;241m-\u001B[39m(\u001B[38;5;241m2\u001B[39m\u001B[38;5;241m*\u001B[39m\u001B[38;5;241m*\u001B[39m\u001B[38;5;241m32\u001B[39m))\n\u001B[1;32m    129\u001B[0m     labels \u001B[38;5;241m=\u001B[39m [\n\u001B[1;32m    130\u001B[0m         \u001B[38;5;28mself\u001B[39m\u001B[38;5;241m.\u001B[39mmap_result(inp\u001B[38;5;241m.\u001B[39moracle)\n\u001B[1;32m    131\u001B[0m         \u001B[38;5;28;01mfor\u001B[39;00m inp \u001B[38;5;129;01min\u001B[39;00m test_inputs\n\u001B[1;32m    132\u001B[0m         \u001B[38;5;28;01mif\u001B[39;00m inp\u001B[38;5;241m.\u001B[39moracle \u001B[38;5;241m!=\u001B[39m OracleResult\u001B[38;5;241m.\u001B[39mUNDEFINED\n\u001B[1;32m    133\u001B[0m     ]\n",
      "File \u001B[0;32m~/Workspace/bachelorarbeit/avicenna/src/avicenna/feature_extractor.py:121\u001B[0m, in \u001B[0;36m<dictcomp>\u001B[0;34m(.0)\u001B[0m\n\u001B[1;32m    118\u001B[0m \u001B[38;5;28;01mdef\u001B[39;00m \u001B[38;5;21mget_learning_data\u001B[39m(\u001B[38;5;28mself\u001B[39m, test_inputs: Set[Input]) \u001B[38;5;241m-\u001B[39m\u001B[38;5;241m>\u001B[39m Tuple[DataFrame, List[\u001B[38;5;28mint\u001B[39m]]:\n\u001B[1;32m    119\u001B[0m     records \u001B[38;5;241m=\u001B[39m [\n\u001B[1;32m    120\u001B[0m         {\n\u001B[0;32m--> 121\u001B[0m             feature: \u001B[43minp\u001B[49m\u001B[38;5;241;43m.\u001B[39;49m\u001B[43mfeatures\u001B[49m\u001B[38;5;241;43m.\u001B[39;49m\u001B[43mget_feature_value\u001B[49m(feature)\n\u001B[1;32m    122\u001B[0m             \u001B[38;5;28;01mfor\u001B[39;00m feature \u001B[38;5;129;01min\u001B[39;00m \u001B[38;5;28mself\u001B[39m\u001B[38;5;241m.\u001B[39mfeatures\n\u001B[1;32m    123\u001B[0m         }\n\u001B[1;32m    124\u001B[0m         \u001B[38;5;28;01mfor\u001B[39;00m inp \u001B[38;5;129;01min\u001B[39;00m test_inputs\n\u001B[1;32m    125\u001B[0m         \u001B[38;5;28;01mif\u001B[39;00m inp\u001B[38;5;241m.\u001B[39moracle \u001B[38;5;241m!=\u001B[39m OracleResult\u001B[38;5;241m.\u001B[39mUNDEFINED\n\u001B[1;32m    126\u001B[0m     ]\n\u001B[1;32m    128\u001B[0m     df \u001B[38;5;241m=\u001B[39m DataFrame\u001B[38;5;241m.\u001B[39mfrom_records(records)\u001B[38;5;241m.\u001B[39mreplace(\u001B[38;5;241m-\u001B[39mnp\u001B[38;5;241m.\u001B[39minf, \u001B[38;5;241m-\u001B[39m(\u001B[38;5;241m2\u001B[39m\u001B[38;5;241m*\u001B[39m\u001B[38;5;241m*\u001B[39m\u001B[38;5;241m32\u001B[39m))\n\u001B[1;32m    129\u001B[0m     labels \u001B[38;5;241m=\u001B[39m [\n\u001B[1;32m    130\u001B[0m         \u001B[38;5;28mself\u001B[39m\u001B[38;5;241m.\u001B[39mmap_result(inp\u001B[38;5;241m.\u001B[39moracle)\n\u001B[1;32m    131\u001B[0m         \u001B[38;5;28;01mfor\u001B[39;00m inp \u001B[38;5;129;01min\u001B[39;00m test_inputs\n\u001B[1;32m    132\u001B[0m         \u001B[38;5;28;01mif\u001B[39;00m inp\u001B[38;5;241m.\u001B[39moracle \u001B[38;5;241m!=\u001B[39m OracleResult\u001B[38;5;241m.\u001B[39mUNDEFINED\n\u001B[1;32m    133\u001B[0m     ]\n",
      "\u001B[0;31mAttributeError\u001B[0m: 'NoneType' object has no attribute 'get_feature_value'"
     ]
    }
   ],
   "source": [
    "test = avicenna.learn_relevant_features()\n",
    "print()"
   ],
   "metadata": {
    "collapsed": false,
    "ExecuteTime": {
     "end_time": "2024-03-06T06:50:19.469445Z",
     "start_time": "2024-03-06T06:50:18.779972Z"
    }
   },
   "id": "66fcc8e567e6efe3",
   "execution_count": 50
  },
  {
   "cell_type": "code",
   "outputs": [],
   "source": [
    "while avicenna.do_more_iterations():\n",
    "    new_inputs = loop(new_inputs)"
   ],
   "metadata": {
    "collapsed": false
   },
   "id": "a4f4e3f5b5926a18",
   "execution_count": null
  },
  {
   "cell_type": "code",
   "outputs": [],
   "source": [
    "diagnosis = avicenna.finalize()"
   ],
   "metadata": {
    "collapsed": false
   },
   "id": "5d04804dfff4fa13",
   "execution_count": null
  },
  {
   "cell_type": "code",
   "outputs": [],
   "source": [
    "from isla.language import ISLaUnparser\n",
    "\n",
    "print(f\"Avicenna determined the following constraints to describe the failure circumstances:\\n\")\n",
    "\n",
    "print(ISLaUnparser(diagnosis[0]).unparse())\n",
    "print(f\"Avicenna calculated a precision of {diagnosis[1]*100:.2f}% and a recall of {diagnosis[2]*100:.2f}%\", end=\"\\n\\n\")"
   ],
   "metadata": {
    "collapsed": false
   },
   "id": "22839c3b30f0dd86",
   "execution_count": null
  },
  {
   "cell_type": "markdown",
   "source": [
    "- Idee: simuliere den Durchlauf von Avicenna bis zu dem Punkt, an dem die Pattern Selektion relevant ist\n",
    "- Schnittstelle von der ich Daten bekomme: \n",
    "- Schnittstelle an die ich Daten gebe: pattern_learner Z272 get_candidates -> generate_candidates"
   ],
   "metadata": {
    "collapsed": false
   },
   "id": "9893097dd36007ed"
  }
 ],
 "metadata": {
  "kernelspec": {
   "display_name": "Python 3",
   "language": "python",
   "name": "python3"
  },
  "language_info": {
   "codemirror_mode": {
    "name": "ipython",
    "version": 2
   },
   "file_extension": ".py",
   "mimetype": "text/x-python",
   "name": "python",
   "nbconvert_exporter": "python",
   "pygments_lexer": "ipython2",
   "version": "2.7.6"
  }
 },
 "nbformat": 4,
 "nbformat_minor": 5
}
